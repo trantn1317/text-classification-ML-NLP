{
 "cells": [
  {
   "cell_type": "code",
   "execution_count": 30,
   "metadata": {},
   "outputs": [],
   "source": [
    "import pandas as pd\n",
    "from tqdm.auto import tqdm\n",
    "import xml.etree.ElementTree as ET\n",
    "from io import StringIO\n",
    "import pandas as pd\n",
    "import matplotlib.pyplot as plt\n",
    "import seaborn as sns\n",
    "from tqdm.notebook import tqdm\n",
    "import re\n",
    "import warnings\n",
    "warnings.filterwarnings(\"ignore\")"
   ]
  },
  {
   "cell_type": "markdown",
   "metadata": {},
   "source": [
    "## Load the data in XML format"
   ]
  },
  {
   "cell_type": "code",
   "execution_count": 31,
   "metadata": {},
   "outputs": [
    {
     "data": {
      "text/plain": [
       "'<review>\\n<unique_id>\\nB0007NOY3E:resperate_device:reith_r._busby_\"rbuzz\"\\n</unique_id>\\n<unique_id>\\n4226\\n</unique_id>\\n<asin>\\nB0007NOY3E\\n</asin>\\n<product_name>\\nRESPeRATE Blood Pressure Lowering Device: Health & Personal Care\\n</product_name>\\n<product_type>\\nhealth & personal care\\n</product_type>\\n<product_type>\\nhealth & personal care\\n</product_type>\\n<helpful>\\n10 of 15\\n</helpful>\\n<rating>\\n1.0\\n</rating>\\n<title>\\nResperate Device\\n</title>\\n<date>\\nAugust 6, 2006\\n</date>\\n<reviewer>\\nReith R. Busby \"rbuzz\"\\n</re'"
      ]
     },
     "execution_count": 31,
     "metadata": {},
     "output_type": "execute_result"
    }
   ],
   "source": [
    "file_path = r'health_&_personal_care\\all.review'\n",
    "with open(file_path, 'r',encoding='latin1') as file:\n",
    "    data = file.read()\n",
    "\n",
    "data[:500]"
   ]
  },
  {
   "cell_type": "markdown",
   "metadata": {},
   "source": [
    "### Since the data is in XML format, we need to parse it and Wrape the data in a root tag to ensure it is well-formed XML"
   ]
  },
  {
   "cell_type": "code",
   "execution_count": 32,
   "metadata": {},
   "outputs": [],
   "source": [
    "xml_data = '<root>' + data + '</root>'"
   ]
  },
  {
   "cell_type": "markdown",
   "metadata": {},
   "source": [
    "### Some preprocessing"
   ]
  },
  {
   "cell_type": "code",
   "execution_count": 34,
   "metadata": {},
   "outputs": [
    {
     "data": {
      "application/vnd.jupyter.widget-view+json": {
       "model_id": "f092f448bed44e8499f5df8821682b62",
       "version_major": 2,
       "version_minor": 0
      },
      "text/plain": [
       "0it [00:00, ?it/s]"
      ]
     },
     "metadata": {},
     "output_type": "display_data"
    },
    {
     "data": {
      "text/html": [
       "<div>\n",
       "<style scoped>\n",
       "    .dataframe tbody tr th:only-of-type {\n",
       "        vertical-align: middle;\n",
       "    }\n",
       "\n",
       "    .dataframe tbody tr th {\n",
       "        vertical-align: top;\n",
       "    }\n",
       "\n",
       "    .dataframe thead th {\n",
       "        text-align: right;\n",
       "    }\n",
       "</style>\n",
       "<table border=\"1\" class=\"dataframe\">\n",
       "  <thead>\n",
       "    <tr style=\"text-align: right;\">\n",
       "      <th></th>\n",
       "      <th>unique_id</th>\n",
       "      <th>asin</th>\n",
       "      <th>product_name</th>\n",
       "      <th>product_type</th>\n",
       "      <th>helpful</th>\n",
       "      <th>rating</th>\n",
       "      <th>title</th>\n",
       "      <th>date</th>\n",
       "      <th>reviewer</th>\n",
       "      <th>reviewer_location</th>\n",
       "      <th>review_text</th>\n",
       "    </tr>\n",
       "  </thead>\n",
       "  <tbody>\n",
       "    <tr>\n",
       "      <th>0</th>\n",
       "      <td>4226</td>\n",
       "      <td>B0007NOY3E</td>\n",
       "      <td>RESPeRATE Blood Pressure Lowering Device: Heal...</td>\n",
       "      <td>health &amp; personal care</td>\n",
       "      <td>10 of 15</td>\n",
       "      <td>1.0</td>\n",
       "      <td>Resperate Device</td>\n",
       "      <td>August 6, 2006</td>\n",
       "      <td>Reith R. Busby \"rbuzz\"</td>\n",
       "      <td>Kansas City</td>\n",
       "      <td>Expensive...and after three months of daily us...</td>\n",
       "    </tr>\n",
       "    <tr>\n",
       "      <th>1</th>\n",
       "      <td>4231</td>\n",
       "      <td>B0007NOY3E</td>\n",
       "      <td>RESPeRATE Blood Pressure Lowering Device: Heal...</td>\n",
       "      <td>health &amp; personal care</td>\n",
       "      <td>14 of 64</td>\n",
       "      <td>1.0</td>\n",
       "      <td>Costs too much.</td>\n",
       "      <td>April 19, 2006</td>\n",
       "      <td>PMacLady</td>\n",
       "      <td>Wisconsin</td>\n",
       "      <td>Meditation will do the same thing. Buy a tape ...</td>\n",
       "    </tr>\n",
       "    <tr>\n",
       "      <th>2</th>\n",
       "      <td>20954</td>\n",
       "      <td>B00006WNPY</td>\n",
       "      <td>Omron HJ-105 Pedometer with Calorie Counter: H...</td>\n",
       "      <td>health &amp; personal care</td>\n",
       "      <td>2 of 2</td>\n",
       "      <td>1.0</td>\n",
       "      <td>Don't Waste Your Money</td>\n",
       "      <td>November 5, 2006</td>\n",
       "      <td>L. Reed \"movie Buff\"</td>\n",
       "      <td>Simi Valley, CA USA</td>\n",
       "      <td>When I got this pedometer, I found that the in...</td>\n",
       "    </tr>\n",
       "    <tr>\n",
       "      <th>3</th>\n",
       "      <td>20962</td>\n",
       "      <td>B00006WNPY</td>\n",
       "      <td>Omron HJ-105 Pedometer with Calorie Counter: H...</td>\n",
       "      <td>health &amp; personal care</td>\n",
       "      <td>5 of 17</td>\n",
       "      <td>1.0</td>\n",
       "      <td>Threw away $15.76</td>\n",
       "      <td>May 14, 2006</td>\n",
       "      <td>Zoeeagleeye</td>\n",
       "      <td>Belfast, ME United States</td>\n",
       "      <td>The pedometer arrive held prisoner in a diffic...</td>\n",
       "    </tr>\n",
       "    <tr>\n",
       "      <th>4</th>\n",
       "      <td>22439</td>\n",
       "      <td>B0009XH7KO</td>\n",
       "      <td>HOOAH! Energy Bars, Chocolate Crisp, 2.29-Ounc...</td>\n",
       "      <td>health &amp; personal care</td>\n",
       "      <td>13 of 16</td>\n",
       "      <td>2.0</td>\n",
       "      <td>Tasty, But.....</td>\n",
       "      <td>June 16, 2006</td>\n",
       "      <td>Catman</td>\n",
       "      <td>Oregon, USA</td>\n",
       "      <td>I was offered  one of these while cycling and ...</td>\n",
       "    </tr>\n",
       "  </tbody>\n",
       "</table>\n",
       "</div>"
      ],
      "text/plain": [
       "  unique_id        asin                                       product_name  \\\n",
       "0      4226  B0007NOY3E  RESPeRATE Blood Pressure Lowering Device: Heal...   \n",
       "1      4231  B0007NOY3E  RESPeRATE Blood Pressure Lowering Device: Heal...   \n",
       "2     20954  B00006WNPY  Omron HJ-105 Pedometer with Calorie Counter: H...   \n",
       "3     20962  B00006WNPY  Omron HJ-105 Pedometer with Calorie Counter: H...   \n",
       "4     22439  B0009XH7KO  HOOAH! Energy Bars, Chocolate Crisp, 2.29-Ounc...   \n",
       "\n",
       "             product_type   helpful rating                   title  \\\n",
       "0  health & personal care  10 of 15    1.0        Resperate Device   \n",
       "1  health & personal care  14 of 64    1.0         Costs too much.   \n",
       "2  health & personal care    2 of 2    1.0  Don't Waste Your Money   \n",
       "3  health & personal care   5 of 17    1.0       Threw away $15.76   \n",
       "4  health & personal care  13 of 16    2.0         Tasty, But.....   \n",
       "\n",
       "               date                reviewer          reviewer_location  \\\n",
       "0    August 6, 2006  Reith R. Busby \"rbuzz\"                Kansas City   \n",
       "1    April 19, 2006                PMacLady                  Wisconsin   \n",
       "2  November 5, 2006    L. Reed \"movie Buff\"        Simi Valley, CA USA   \n",
       "3      May 14, 2006             Zoeeagleeye  Belfast, ME United States   \n",
       "4     June 16, 2006                  Catman                Oregon, USA   \n",
       "\n",
       "                                         review_text  \n",
       "0  Expensive...and after three months of daily us...  \n",
       "1  Meditation will do the same thing. Buy a tape ...  \n",
       "2  When I got this pedometer, I found that the in...  \n",
       "3  The pedometer arrive held prisoner in a diffic...  \n",
       "4  I was offered  one of these while cycling and ...  "
      ]
     },
     "execution_count": 34,
     "metadata": {},
     "output_type": "execute_result"
    }
   ],
   "source": [
    "# Function to escape special XML characters\n",
    "def escape_xml_chars(text):\n",
    "    return re.sub(r'&(?!amp;)', '&amp;', text)\n",
    "\n",
    "# Function to remove non-printable characters\n",
    "def remove_non_printable_chars(text):\n",
    "    return ''.join(char for char in text if char.isprintable())\n",
    "\n",
    "# Apply the function to escape XML characters\n",
    "escaped_data = escape_xml_chars(xml_data)\n",
    "# Apply the function to remove non-printable characters\n",
    "cleaned_data = remove_non_printable_chars(escaped_data)\n",
    "\n",
    "# Try parsing the cleaned XML data again\n",
    "tree = ET.parse(StringIO(cleaned_data))\n",
    "root = tree.getroot()\n",
    "\n",
    "# Extracting the data into a DataFrame\n",
    "reviews = []\n",
    "\n",
    "# Using tqdm to show progress\n",
    "for review in tqdm(root.iter('review')):\n",
    "    review_data = {}\n",
    "    for child in review:\n",
    "        review_data[child.tag] = child.text.strip() if child.text else None\n",
    "    reviews.append(review_data)\n",
    "\n",
    "df = pd.DataFrame(reviews)\n",
    "df.head()"
   ]
  },
  {
   "cell_type": "markdown",
   "metadata": {},
   "source": [
    "### Rating Distribution"
   ]
  },
  {
   "cell_type": "code",
   "execution_count": 35,
   "metadata": {},
   "outputs": [
    {
     "data": {
      "image/png": "[encoded data removed]",
      "text/plain": [
       "<Figure size 1000x600 with 1 Axes>"
      ]
     },
     "metadata": {},
     "output_type": "display_data"
    }
   ],
   "source": [
    "tqdm.pandas()\n",
    "\n",
    "# Convert 'rating' to a numeric type, errors='coerce' will replace non-numeric values with NaN\n",
    "df['rating'] = pd.to_numeric(df['rating'], errors='coerce')\n",
    "\n",
    "# Drop rows with NaN values in 'rating' column\n",
    "visual_df = df.dropna(subset=['rating'])\n",
    "\n",
    "# Plotting the distribution of ratings\n",
    "plt.figure(figsize=(10, 6))\n",
    "sns.countplot(x='rating', data=visual_df, palette='viridis')\n",
    "plt.title('Distribution of Product Ratings')\n",
    "plt.xlabel('Rating')\n",
    "plt.ylabel('Number of Reviews')\n",
    "plt.xticks(rotation=90)\n",
    "plt.tight_layout()\n",
    "plt.show()"
   ]
  },
  {
   "cell_type": "markdown",
   "metadata": {},
   "source": [
    "Most reviews seem to have a rating of 5, indicating a possible skew towards positive reviews.\n",
    "There are fewer reviews with lower ratings, with a particularly low number of reviews with a rating of 2.0."
   ]
  },
  {
   "cell_type": "markdown",
   "metadata": {},
   "source": [
    "## Visualizing the distribution of ratings over time"
   ]
  },
  {
   "cell_type": "code",
   "execution_count": 36,
   "metadata": {},
   "outputs": [
    {
     "data": {
      "image/png": "[encoded data removed]",
      "text/plain": [
       "<Figure size 1200x600 with 1 Axes>"
      ]
     },
     "metadata": {},
     "output_type": "display_data"
    }
   ],
   "source": [
    "visual_df['date'] = pd.to_datetime(visual_df['date'], errors='coerce')\n",
    "\n",
    "plt.figure(figsize=(12, 6))\n",
    "sns.histplot(visual_df['date'], kde=False, bins=50, color='skyblue')\n",
    "plt.title('Distribution of Ratings Over Time')\n",
    "plt.xlabel('Date')\n",
    "plt.ylabel('Number of Reviews')\n",
    "plt.xticks(rotation=45)\n",
    "plt.tight_layout()\n",
    "plt.show()"
   ]
  },
  {
   "cell_type": "markdown",
   "metadata": {},
   "source": [
    "The chart illustrates the number of reviews over time, providing an overview of the review activity and its fluctuations."
   ]
  },
  {
   "cell_type": "markdown",
   "metadata": {},
   "source": [
    "## Visualizing the distribution of helpful votes"
   ]
  },
  {
   "cell_type": "code",
   "execution_count": 37,
   "metadata": {},
   "outputs": [
    {
     "data": {
      "image/png": "[encoded data removed]",
      "text/plain": [
       "<Figure size 1000x600 with 1 Axes>"
      ]
     },
     "metadata": {},
     "output_type": "display_data"
    }
   ],
   "source": [
    "visual_df['helpful_votes'] = visual_df['helpful'].str.split(' of ', expand=True)[0]\n",
    "visual_df['total_votes'] = visual_df['helpful'].str.split(' of ', expand=True)[1]\n",
    "\n",
    "visual_df['helpful_votes'] = pd.to_numeric(visual_df['helpful_votes'], errors='coerce')\n",
    "visual_df['total_votes'] = pd.to_numeric(visual_df['total_votes'], errors='coerce')\n",
    "\n",
    "visual_df = visual_df.dropna(subset=['helpful_votes', 'total_votes'])\n",
    "\n",
    "visual_df['helpfulness_ratio'] = visual_df['helpful_votes'] / visual_df['total_votes']\n",
    "\n",
    "# Plotting the distribution of helpfulness ratio\n",
    "plt.figure(figsize=(10, 6))\n",
    "sns.histplot(visual_df['helpfulness_ratio'], kde=False, bins=30, color='lightcoral')\n",
    "plt.title('Distribution of Helpfulness Ratio')\n",
    "plt.xlabel('Helpfulness Ratio')\n",
    "plt.ylabel('Number of Reviews')\n",
    "plt.tight_layout()\n",
    "plt.show()"
   ]
  },
  {
   "cell_type": "markdown",
   "metadata": {},
   "source": [
    "The histogram visualizes the distribution of the helpfulness ratio of reviews, which is calculated as the number of helpful votes divided by the total number of votes."
   ]
  },
  {
   "cell_type": "markdown",
   "metadata": {},
   "source": [
    "## Selecting the required columns"
   ]
  },
  {
   "cell_type": "code",
   "execution_count": 38,
   "metadata": {},
   "outputs": [
    {
     "data": {
      "text/html": [
       "<div>\n",
       "<style scoped>\n",
       "    .dataframe tbody tr th:only-of-type {\n",
       "        vertical-align: middle;\n",
       "    }\n",
       "\n",
       "    .dataframe tbody tr th {\n",
       "        vertical-align: top;\n",
       "    }\n",
       "\n",
       "    .dataframe thead th {\n",
       "        text-align: right;\n",
       "    }\n",
       "</style>\n",
       "<table border=\"1\" class=\"dataframe\">\n",
       "  <thead>\n",
       "    <tr style=\"text-align: right;\">\n",
       "      <th></th>\n",
       "      <th>unique_id</th>\n",
       "      <th>review_text</th>\n",
       "      <th>rating</th>\n",
       "    </tr>\n",
       "  </thead>\n",
       "  <tbody>\n",
       "    <tr>\n",
       "      <th>0</th>\n",
       "      <td>4226</td>\n",
       "      <td>Expensive...and after three months of daily us...</td>\n",
       "      <td>1.0</td>\n",
       "    </tr>\n",
       "    <tr>\n",
       "      <th>1</th>\n",
       "      <td>4231</td>\n",
       "      <td>Meditation will do the same thing. Buy a tape ...</td>\n",
       "      <td>1.0</td>\n",
       "    </tr>\n",
       "    <tr>\n",
       "      <th>2</th>\n",
       "      <td>20954</td>\n",
       "      <td>When I got this pedometer, I found that the in...</td>\n",
       "      <td>1.0</td>\n",
       "    </tr>\n",
       "    <tr>\n",
       "      <th>3</th>\n",
       "      <td>20962</td>\n",
       "      <td>The pedometer arrive held prisoner in a diffic...</td>\n",
       "      <td>1.0</td>\n",
       "    </tr>\n",
       "    <tr>\n",
       "      <th>4</th>\n",
       "      <td>22439</td>\n",
       "      <td>I was offered  one of these while cycling and ...</td>\n",
       "      <td>2.0</td>\n",
       "    </tr>\n",
       "  </tbody>\n",
       "</table>\n",
       "</div>"
      ],
      "text/plain": [
       "  unique_id                                        review_text  rating\n",
       "0      4226  Expensive...and after three months of daily us...     1.0\n",
       "1      4231  Meditation will do the same thing. Buy a tape ...     1.0\n",
       "2     20954  When I got this pedometer, I found that the in...     1.0\n",
       "3     20962  The pedometer arrive held prisoner in a diffic...     1.0\n",
       "4     22439  I was offered  one of these while cycling and ...     2.0"
      ]
     },
     "execution_count": 38,
     "metadata": {},
     "output_type": "execute_result"
    }
   ],
   "source": [
    "review_df = df[['unique_id', 'review_text', 'rating']]\n",
    "\n",
    "review_df.head()"
   ]
  },
  {
   "cell_type": "markdown",
   "metadata": {},
   "source": [
    "## Create a new column 'sentiment' based on the rating"
   ]
  },
  {
   "cell_type": "code",
   "execution_count": 39,
   "metadata": {},
   "outputs": [
    {
     "data": {
      "text/html": [
       "<div>\n",
       "<style scoped>\n",
       "    .dataframe tbody tr th:only-of-type {\n",
       "        vertical-align: middle;\n",
       "    }\n",
       "\n",
       "    .dataframe tbody tr th {\n",
       "        vertical-align: top;\n",
       "    }\n",
       "\n",
       "    .dataframe thead th {\n",
       "        text-align: right;\n",
       "    }\n",
       "</style>\n",
       "<table border=\"1\" class=\"dataframe\">\n",
       "  <thead>\n",
       "    <tr style=\"text-align: right;\">\n",
       "      <th></th>\n",
       "      <th>unique_id</th>\n",
       "      <th>review_text</th>\n",
       "      <th>rating</th>\n",
       "      <th>sentiment</th>\n",
       "    </tr>\n",
       "  </thead>\n",
       "  <tbody>\n",
       "    <tr>\n",
       "      <th>0</th>\n",
       "      <td>4226</td>\n",
       "      <td>Expensive...and after three months of daily us...</td>\n",
       "      <td>1.0</td>\n",
       "      <td>negative</td>\n",
       "    </tr>\n",
       "    <tr>\n",
       "      <th>1</th>\n",
       "      <td>4231</td>\n",
       "      <td>Meditation will do the same thing. Buy a tape ...</td>\n",
       "      <td>1.0</td>\n",
       "      <td>negative</td>\n",
       "    </tr>\n",
       "    <tr>\n",
       "      <th>2</th>\n",
       "      <td>20954</td>\n",
       "      <td>When I got this pedometer, I found that the in...</td>\n",
       "      <td>1.0</td>\n",
       "      <td>negative</td>\n",
       "    </tr>\n",
       "    <tr>\n",
       "      <th>3</th>\n",
       "      <td>20962</td>\n",
       "      <td>The pedometer arrive held prisoner in a diffic...</td>\n",
       "      <td>1.0</td>\n",
       "      <td>negative</td>\n",
       "    </tr>\n",
       "    <tr>\n",
       "      <th>4</th>\n",
       "      <td>22439</td>\n",
       "      <td>I was offered  one of these while cycling and ...</td>\n",
       "      <td>2.0</td>\n",
       "      <td>negative</td>\n",
       "    </tr>\n",
       "    <tr>\n",
       "      <th>...</th>\n",
       "      <td>...</td>\n",
       "      <td>...</td>\n",
       "      <td>...</td>\n",
       "      <td>...</td>\n",
       "    </tr>\n",
       "    <tr>\n",
       "      <th>7220</th>\n",
       "      <td>B0007MHF2M:aquadrene_review_5_stars:s._light_\"...</td>\n",
       "      <td>This is an amazing product which, if taken as ...</td>\n",
       "      <td>5.0</td>\n",
       "      <td>positive</td>\n",
       "    </tr>\n",
       "    <tr>\n",
       "      <th>7221</th>\n",
       "      <td>B0007MHF2M:i_like_aquadrene_the_best_of_diuret...</td>\n",
       "      <td>I've used alot of different diuretic products ...</td>\n",
       "      <td>5.0</td>\n",
       "      <td>positive</td>\n",
       "    </tr>\n",
       "    <tr>\n",
       "      <th>7222</th>\n",
       "      <td>B000FKEUO2:glide_works_well_for_flossing_tight...</td>\n",
       "      <td>As a dentist of over 20+ years experience, I h...</td>\n",
       "      <td>5.0</td>\n",
       "      <td>positive</td>\n",
       "    </tr>\n",
       "    <tr>\n",
       "      <th>7223</th>\n",
       "      <td>B000FKEUO2:cadillac_of_dental_floss:c._a._donh...</td>\n",
       "      <td>The best dental floss you can buy.  Never spli...</td>\n",
       "      <td>5.0</td>\n",
       "      <td>positive</td>\n",
       "    </tr>\n",
       "    <tr>\n",
       "      <th>7224</th>\n",
       "      <td>B000JYF1OW:what_a_difference!:c._susan_smith_\"...</td>\n",
       "      <td>Fantastic! This product has taken off years fr...</td>\n",
       "      <td>5.0</td>\n",
       "      <td>positive</td>\n",
       "    </tr>\n",
       "  </tbody>\n",
       "</table>\n",
       "<p>7225 rows × 4 columns</p>\n",
       "</div>"
      ],
      "text/plain": [
       "                                              unique_id  \\\n",
       "0                                                  4226   \n",
       "1                                                  4231   \n",
       "2                                                 20954   \n",
       "3                                                 20962   \n",
       "4                                                 22439   \n",
       "...                                                 ...   \n",
       "7220  B0007MHF2M:aquadrene_review_5_stars:s._light_\"...   \n",
       "7221  B0007MHF2M:i_like_aquadrene_the_best_of_diuret...   \n",
       "7222  B000FKEUO2:glide_works_well_for_flossing_tight...   \n",
       "7223  B000FKEUO2:cadillac_of_dental_floss:c._a._donh...   \n",
       "7224  B000JYF1OW:what_a_difference!:c._susan_smith_\"...   \n",
       "\n",
       "                                            review_text  rating sentiment  \n",
       "0     Expensive...and after three months of daily us...     1.0  negative  \n",
       "1     Meditation will do the same thing. Buy a tape ...     1.0  negative  \n",
       "2     When I got this pedometer, I found that the in...     1.0  negative  \n",
       "3     The pedometer arrive held prisoner in a diffic...     1.0  negative  \n",
       "4     I was offered  one of these while cycling and ...     2.0  negative  \n",
       "...                                                 ...     ...       ...  \n",
       "7220  This is an amazing product which, if taken as ...     5.0  positive  \n",
       "7221  I've used alot of different diuretic products ...     5.0  positive  \n",
       "7222  As a dentist of over 20+ years experience, I h...     5.0  positive  \n",
       "7223  The best dental floss you can buy.  Never spli...     5.0  positive  \n",
       "7224  Fantastic! This product has taken off years fr...     5.0  positive  \n",
       "\n",
       "[7225 rows x 4 columns]"
      ]
     },
     "execution_count": 39,
     "metadata": {},
     "output_type": "execute_result"
    }
   ],
   "source": [
    "review_df['sentiment'] = review_df['rating'].apply(lambda x: 'positive' if x > 2.5 else 'negative')\n",
    "\n",
    "review_df"
   ]
  },
  {
   "cell_type": "markdown",
   "metadata": {},
   "source": [
    "## Shuffelling the DataFrame"
   ]
  },
  {
   "cell_type": "code",
   "execution_count": 40,
   "metadata": {},
   "outputs": [
    {
     "data": {
      "text/html": [
       "<div>\n",
       "<style scoped>\n",
       "    .dataframe tbody tr th:only-of-type {\n",
       "        vertical-align: middle;\n",
       "    }\n",
       "\n",
       "    .dataframe tbody tr th {\n",
       "        vertical-align: top;\n",
       "    }\n",
       "\n",
       "    .dataframe thead th {\n",
       "        text-align: right;\n",
       "    }\n",
       "</style>\n",
       "<table border=\"1\" class=\"dataframe\">\n",
       "  <thead>\n",
       "    <tr style=\"text-align: right;\">\n",
       "      <th></th>\n",
       "      <th>unique_id</th>\n",
       "      <th>review_text</th>\n",
       "      <th>rating</th>\n",
       "      <th>sentiment</th>\n",
       "    </tr>\n",
       "  </thead>\n",
       "  <tbody>\n",
       "    <tr>\n",
       "      <th>0</th>\n",
       "      <td>B000FVEL7W:the_best:ronald_t._hicks</td>\n",
       "      <td>This the best product out there for preventing...</td>\n",
       "      <td>5.0</td>\n",
       "      <td>positive</td>\n",
       "    </tr>\n",
       "    <tr>\n",
       "      <th>1</th>\n",
       "      <td>B000GBID20:pleased_with_oral_b_vitality_sonic:...</td>\n",
       "      <td>I was looking for something less abrasive than...</td>\n",
       "      <td>4.0</td>\n",
       "      <td>positive</td>\n",
       "    </tr>\n",
       "    <tr>\n",
       "      <th>2</th>\n",
       "      <td>B0009IK198:a_fine_shave:thomas_m._stevens_\"mic...</td>\n",
       "      <td>I bought this razor to check out the foil shav...</td>\n",
       "      <td>4.0</td>\n",
       "      <td>positive</td>\n",
       "    </tr>\n",
       "    <tr>\n",
       "      <th>3</th>\n",
       "      <td>B000BPU3KG:best_one_there_is:sarah_j._moseley_...</td>\n",
       "      <td>I have fibromyalgia and my heating pads are my...</td>\n",
       "      <td>5.0</td>\n",
       "      <td>positive</td>\n",
       "    </tr>\n",
       "    <tr>\n",
       "      <th>4</th>\n",
       "      <td>B000195OCO:just_trust_me...:shilo_irving_\"u4ic...</td>\n",
       "      <td>This is one of the most all around fragrances ...</td>\n",
       "      <td>5.0</td>\n",
       "      <td>positive</td>\n",
       "    </tr>\n",
       "    <tr>\n",
       "      <th>...</th>\n",
       "      <td>...</td>\n",
       "      <td>...</td>\n",
       "      <td>...</td>\n",
       "      <td>...</td>\n",
       "    </tr>\n",
       "    <tr>\n",
       "      <th>7220</th>\n",
       "      <td>B00012JWWE:lapdesk_works_great:jason_a._shaw_\"...</td>\n",
       "      <td>of all the lapdesks we've tried, the posture r...</td>\n",
       "      <td>4.0</td>\n",
       "      <td>positive</td>\n",
       "    </tr>\n",
       "    <tr>\n",
       "      <th>7221</th>\n",
       "      <td>B00009V2R0:best_batteries_ever.:d._truong</td>\n",
       "      <td>these are the best batteries ever.  i use my g...</td>\n",
       "      <td>5.0</td>\n",
       "      <td>positive</td>\n",
       "    </tr>\n",
       "    <tr>\n",
       "      <th>7222</th>\n",
       "      <td>B000FJVPSW:as_good_as_a_blow_up_pillow_can_be!...</td>\n",
       "      <td>I didn't expect this pillow to feel like my ho...</td>\n",
       "      <td>5.0</td>\n",
       "      <td>positive</td>\n",
       "    </tr>\n",
       "    <tr>\n",
       "      <th>7223</th>\n",
       "      <td>355598</td>\n",
       "      <td>I don't know what those other people were talk...</td>\n",
       "      <td>1.0</td>\n",
       "      <td>negative</td>\n",
       "    </tr>\n",
       "    <tr>\n",
       "      <th>7224</th>\n",
       "      <td>B000LBIO6U:not_a_typical_king_size,_strong_odo...</td>\n",
       "      <td>It was apparent upon immediate receipt that th...</td>\n",
       "      <td>2.0</td>\n",
       "      <td>negative</td>\n",
       "    </tr>\n",
       "  </tbody>\n",
       "</table>\n",
       "<p>7225 rows × 4 columns</p>\n",
       "</div>"
      ],
      "text/plain": [
       "                                              unique_id  \\\n",
       "0                   B000FVEL7W:the_best:ronald_t._hicks   \n",
       "1     B000GBID20:pleased_with_oral_b_vitality_sonic:...   \n",
       "2     B0009IK198:a_fine_shave:thomas_m._stevens_\"mic...   \n",
       "3     B000BPU3KG:best_one_there_is:sarah_j._moseley_...   \n",
       "4     B000195OCO:just_trust_me...:shilo_irving_\"u4ic...   \n",
       "...                                                 ...   \n",
       "7220  B00012JWWE:lapdesk_works_great:jason_a._shaw_\"...   \n",
       "7221          B00009V2R0:best_batteries_ever.:d._truong   \n",
       "7222  B000FJVPSW:as_good_as_a_blow_up_pillow_can_be!...   \n",
       "7223                                             355598   \n",
       "7224  B000LBIO6U:not_a_typical_king_size,_strong_odo...   \n",
       "\n",
       "                                            review_text  rating sentiment  \n",
       "0     This the best product out there for preventing...     5.0  positive  \n",
       "1     I was looking for something less abrasive than...     4.0  positive  \n",
       "2     I bought this razor to check out the foil shav...     4.0  positive  \n",
       "3     I have fibromyalgia and my heating pads are my...     5.0  positive  \n",
       "4     This is one of the most all around fragrances ...     5.0  positive  \n",
       "...                                                 ...     ...       ...  \n",
       "7220  of all the lapdesks we've tried, the posture r...     4.0  positive  \n",
       "7221  these are the best batteries ever.  i use my g...     5.0  positive  \n",
       "7222  I didn't expect this pillow to feel like my ho...     5.0  positive  \n",
       "7223  I don't know what those other people were talk...     1.0  negative  \n",
       "7224  It was apparent upon immediate receipt that th...     2.0  negative  \n",
       "\n",
       "[7225 rows x 4 columns]"
      ]
     },
     "execution_count": 40,
     "metadata": {},
     "output_type": "execute_result"
    }
   ],
   "source": [
    "review_df = review_df.sample(frac=1).reset_index(drop=True)\n",
    "\n",
    "review_df"
   ]
  },
  {
   "cell_type": "markdown",
   "metadata": {},
   "source": [
    "## Plotting the distribution of the 'sentiment' column"
   ]
  },
  {
   "cell_type": "code",
   "execution_count": 41,
   "metadata": {},
   "outputs": [
    {
     "data": {
      "image/png": "[encoded data removed]",
      "text/plain": [
       "<Figure size 800x500 with 1 Axes>"
      ]
     },
     "metadata": {},
     "output_type": "display_data"
    }
   ],
   "source": [
    "plt.figure(figsize=(8, 5))\n",
    "sns.countplot(x='sentiment', data=review_df, palette='pastel')\n",
    "plt.title('Distribution of Sentiments')\n",
    "plt.xlabel('Sentiment')\n",
    "plt.ylabel('Number of Reviews')\n",
    "plt.tight_layout()\n",
    "plt.show()"
   ]
  },
  {
   "cell_type": "markdown",
   "metadata": {},
   "source": [
    "## Saving the final Preprocessed Riview data"
   ]
  },
  {
   "cell_type": "code",
   "execution_count": 42,
   "metadata": {},
   "outputs": [],
   "source": [
    "review_df.to_csv('processed_data.csv')"
   ]
  }
 ],
 "metadata": {
  "kernelspec": {
   "display_name": "tf",
   "language": "python",
   "name": "python3"
  },
  "language_info": {
   "codemirror_mode": {
    "name": "ipython",
    "version": 3
   },
   "file_extension": ".py",
   "mimetype": "text/x-python",
   "name": "python",
   "nbconvert_exporter": "python",
   "pygments_lexer": "ipython3",
   "version": "3.10.12"
  }
 },
 "nbformat": 4,
 "nbformat_minor": 2
}
