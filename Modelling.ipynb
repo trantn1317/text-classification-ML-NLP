{
  "cells": [
    {
      "cell_type": "code",
      "execution_count": 1,
      "metadata": {
        "id": "PzYLz5RUvYmb"
      },
      "outputs": [],
      "source": [
        "import pandas as pd\n",
        "import nltk\n",
        "from nltk.corpus import stopwords\n",
        "from nltk.stem import WordNetLemmatizer\n",
        "import pandas as pd\n",
        "import matplotlib.pyplot as plt\n",
        "import seaborn as sns\n",
        "from sklearn.model_selection import train_test_split\n",
        "from transformers import DistilBertTokenizer, DistilBertForSequenceClassification\n",
        "import torch\n",
        "from torch.utils.data import DataLoader, TensorDataset,WeightedRandomSampler\n",
        "from sklearn.metrics import accuracy_score, classification_report,confusion_matrix\n",
        "import random\n",
        "import warnings\n",
        "warnings.filterwarnings(\"ignore\")"
      ]
    },
    {
      "cell_type": "code",
      "execution_count": 2,
      "metadata": {
        "id": "Cx3UhhQKv_gk"
      },
      "outputs": [],
      "source": [
        "review_df=pd.read_csv('processed_data.csv',index_col=False)"
      ]
    },
    {
      "cell_type": "code",
      "execution_count": 3,
      "metadata": {
        "colab": {
          "base_uri": "https://localhost:8080/"
        },
        "id": "uvHtbCXjwPGS",
        "outputId": "2ace187c-e370-49e4-8f5d-cd9285efd7af"
      },
      "outputs": [
        {
          "name": "stderr",
          "output_type": "stream",
          "text": [
            "[nltk_data] Downloading package stopwords to /root/nltk_data...\n",
            "[nltk_data]   Package stopwords is already up-to-date!\n",
            "[nltk_data] Downloading package punkt to /root/nltk_data...\n",
            "[nltk_data]   Package punkt is already up-to-date!\n",
            "[nltk_data] Downloading package wordnet to /root/nltk_data...\n",
            "[nltk_data]   Package wordnet is already up-to-date!\n"
          ]
        },
        {
          "data": {
            "text/plain": [
              "True"
            ]
          },
          "execution_count": 3,
          "metadata": {},
          "output_type": "execute_result"
        }
      ],
      "source": [
        "nltk.download('stopwords')\n",
        "nltk.download('punkt')\n",
        "nltk.download('wordnet')"
      ]
    },
    {
      "cell_type": "code",
      "execution_count": 4,
      "metadata": {
        "colab": {
          "base_uri": "https://localhost:8080/",
          "height": 310
        },
        "id": "n-wAFDHrwTIL",
        "outputId": "7ed4cb18-3682-4dd8-f86a-d6ae1e98c8da"
      },
      "outputs": [
        {
          "data": {
            "text/html": [
              "\n",
              "  <div id=\"df-26ce9952-c976-4851-b591-a5ef1c538310\" class=\"colab-df-container\">\n",
              "    <div>\n",
              "<style scoped>\n",
              "    .dataframe tbody tr th:only-of-type {\n",
              "        vertical-align: middle;\n",
              "    }\n",
              "\n",
              "    .dataframe tbody tr th {\n",
              "        vertical-align: top;\n",
              "    }\n",
              "\n",
              "    .dataframe thead th {\n",
              "        text-align: right;\n",
              "    }\n",
              "</style>\n",
              "<table border=\"1\" class=\"dataframe\">\n",
              "  <thead>\n",
              "    <tr style=\"text-align: right;\">\n",
              "      <th></th>\n",
              "      <th>Unnamed: 0</th>\n",
              "      <th>unique_id</th>\n",
              "      <th>review_text</th>\n",
              "      <th>rating</th>\n",
              "      <th>sentiment</th>\n",
              "    </tr>\n",
              "  </thead>\n",
              "  <tbody>\n",
              "    <tr>\n",
              "      <th>0</th>\n",
              "      <td>0</td>\n",
              "      <td>B000FVEL7W:the_best:ronald_t._hicks</td>\n",
              "      <td>best product preventing ridding red bumps, ing...</td>\n",
              "      <td>5.0</td>\n",
              "      <td>positive</td>\n",
              "    </tr>\n",
              "    <tr>\n",
              "      <th>1</th>\n",
              "      <td>1</td>\n",
              "      <td>B000GBID20:pleased_with_oral_b_vitality_sonic:...</td>\n",
              "      <td>looking something le abrasive regular manual t...</td>\n",
              "      <td>4.0</td>\n",
              "      <td>positive</td>\n",
              "    </tr>\n",
              "    <tr>\n",
              "      <th>2</th>\n",
              "      <td>2</td>\n",
              "      <td>B0009IK198:a_fine_shave:thomas_m._stevens_\"mic...</td>\n",
              "      <td>bought razor check foil shave. I've used Norel...</td>\n",
              "      <td>4.0</td>\n",
              "      <td>positive</td>\n",
              "    </tr>\n",
              "    <tr>\n",
              "      <th>3</th>\n",
              "      <td>3</td>\n",
              "      <td>B000BPU3KG:best_one_there_is:sarah_j._moseley_...</td>\n",
              "      <td>fibromyalgia heating pad closest friends. : ) ...</td>\n",
              "      <td>5.0</td>\n",
              "      <td>positive</td>\n",
              "    </tr>\n",
              "    <tr>\n",
              "      <th>4</th>\n",
              "      <td>4</td>\n",
              "      <td>B000195OCO:just_trust_me...:shilo_irving_\"u4ic...</td>\n",
              "      <td>one around fragrance man have. lumberjack busi...</td>\n",
              "      <td>5.0</td>\n",
              "      <td>positive</td>\n",
              "    </tr>\n",
              "  </tbody>\n",
              "</table>\n",
              "</div>\n",
              "    <div class=\"colab-df-buttons\">\n",
              "\n",
              "  <div class=\"colab-df-container\">\n",
              "    <button class=\"colab-df-convert\" onclick=\"convertToInteractive('df-26ce9952-c976-4851-b591-a5ef1c538310')\"\n",
              "            title=\"Convert this dataframe to an interactive table.\"\n",
              "            style=\"display:none;\">\n",
              "\n",
              "  <svg xmlns=\"http://www.w3.org/2000/svg\" height=\"24px\" viewBox=\"0 -960 960 960\">\n",
              "    <path d=\"M120-120v-720h720v720H120Zm60-500h600v-160H180v160Zm220 220h160v-160H400v160Zm0 220h160v-160H400v160ZM180-400h160v-160H180v160Zm440 0h160v-160H620v160ZM180-180h160v-160H180v160Zm440 0h160v-160H620v160Z\"/>\n",
              "  </svg>\n",
              "    </button>\n",
              "\n",
              "  <style>\n",
              "    .colab-df-container {\n",
              "      display:flex;\n",
              "      gap: 12px;\n",
              "    }\n",
              "\n",
              "    .colab-df-convert {\n",
              "      background-color: #E8F0FE;\n",
              "      border: none;\n",
              "      border-radius: 50%;\n",
              "      cursor: pointer;\n",
              "      display: none;\n",
              "      fill: #1967D2;\n",
              "      height: 32px;\n",
              "      padding: 0 0 0 0;\n",
              "      width: 32px;\n",
              "    }\n",
              "\n",
              "    .colab-df-convert:hover {\n",
              "      background-color: #E2EBFA;\n",
              "      box-shadow: 0px 1px 2px rgba(60, 64, 67, 0.3), 0px 1px 3px 1px rgba(60, 64, 67, 0.15);\n",
              "      fill: #174EA6;\n",
              "    }\n",
              "\n",
              "    .colab-df-buttons div {\n",
              "      margin-bottom: 4px;\n",
              "    }\n",
              "\n",
              "    [theme=dark] .colab-df-convert {\n",
              "      background-color: #3B4455;\n",
              "      fill: #D2E3FC;\n",
              "    }\n",
              "\n",
              "    [theme=dark] .colab-df-convert:hover {\n",
              "      background-color: #434B5C;\n",
              "      box-shadow: 0px 1px 3px 1px rgba(0, 0, 0, 0.15);\n",
              "      filter: drop-shadow(0px 1px 2px rgba(0, 0, 0, 0.3));\n",
              "      fill: #FFFFFF;\n",
              "    }\n",
              "  </style>\n",
              "\n",
              "    <script>\n",
              "      const buttonEl =\n",
              "        document.querySelector('#df-26ce9952-c976-4851-b591-a5ef1c538310 button.colab-df-convert');\n",
              "      buttonEl.style.display =\n",
              "        google.colab.kernel.accessAllowed ? 'block' : 'none';\n",
              "\n",
              "      async function convertToInteractive(key) {\n",
              "        const element = document.querySelector('#df-26ce9952-c976-4851-b591-a5ef1c538310');\n",
              "        const dataTable =\n",
              "          await google.colab.kernel.invokeFunction('convertToInteractive',\n",
              "                                                    [key], {});\n",
              "        if (!dataTable) return;\n",
              "\n",
              "        const docLinkHtml = 'Like what you see? Visit the ' +\n",
              "          '<a target=\"_blank\" href=https://colab.research.google.com/notebooks/data_table.ipynb>data table notebook</a>'\n",
              "          + ' to learn more about interactive tables.';\n",
              "        element.innerHTML = '';\n",
              "        dataTable['output_type'] = 'display_data';\n",
              "        await google.colab.output.renderOutput(dataTable, element);\n",
              "        const docLink = document.createElement('div');\n",
              "        docLink.innerHTML = docLinkHtml;\n",
              "        element.appendChild(docLink);\n",
              "      }\n",
              "    </script>\n",
              "  </div>\n",
              "\n",
              "\n",
              "<div id=\"df-4c4453bd-8f43-4a12-8b42-fa8283d6ec9c\">\n",
              "  <button class=\"colab-df-quickchart\" onclick=\"quickchart('df-4c4453bd-8f43-4a12-8b42-fa8283d6ec9c')\"\n",
              "            title=\"Suggest charts\"\n",
              "            style=\"display:none;\">\n",
              "\n",
              "<svg xmlns=\"http://www.w3.org/2000/svg\" height=\"24px\"viewBox=\"0 0 24 24\"\n",
              "     width=\"24px\">\n",
              "    <g>\n",
              "        <path d=\"M19 3H5c-1.1 0-2 .9-2 2v14c0 1.1.9 2 2 2h14c1.1 0 2-.9 2-2V5c0-1.1-.9-2-2-2zM9 17H7v-7h2v7zm4 0h-2V7h2v10zm4 0h-2v-4h2v4z\"/>\n",
              "    </g>\n",
              "</svg>\n",
              "  </button>\n",
              "\n",
              "<style>\n",
              "  .colab-df-quickchart {\n",
              "      --bg-color: #E8F0FE;\n",
              "      --fill-color: #1967D2;\n",
              "      --hover-bg-color: #E2EBFA;\n",
              "      --hover-fill-color: #174EA6;\n",
              "      --disabled-fill-color: #AAA;\n",
              "      --disabled-bg-color: #DDD;\n",
              "  }\n",
              "\n",
              "  [theme=dark] .colab-df-quickchart {\n",
              "      --bg-color: #3B4455;\n",
              "      --fill-color: #D2E3FC;\n",
              "      --hover-bg-color: #434B5C;\n",
              "      --hover-fill-color: #FFFFFF;\n",
              "      --disabled-bg-color: #3B4455;\n",
              "      --disabled-fill-color: #666;\n",
              "  }\n",
              "\n",
              "  .colab-df-quickchart {\n",
              "    background-color: var(--bg-color);\n",
              "    border: none;\n",
              "    border-radius: 50%;\n",
              "    cursor: pointer;\n",
              "    display: none;\n",
              "    fill: var(--fill-color);\n",
              "    height: 32px;\n",
              "    padding: 0;\n",
              "    width: 32px;\n",
              "  }\n",
              "\n",
              "  .colab-df-quickchart:hover {\n",
              "    background-color: var(--hover-bg-color);\n",
              "    box-shadow: 0 1px 2px rgba(60, 64, 67, 0.3), 0 1px 3px 1px rgba(60, 64, 67, 0.15);\n",
              "    fill: var(--button-hover-fill-color);\n",
              "  }\n",
              "\n",
              "  .colab-df-quickchart-complete:disabled,\n",
              "  .colab-df-quickchart-complete:disabled:hover {\n",
              "    background-color: var(--disabled-bg-color);\n",
              "    fill: var(--disabled-fill-color);\n",
              "    box-shadow: none;\n",
              "  }\n",
              "\n",
              "  .colab-df-spinner {\n",
              "    border: 2px solid var(--fill-color);\n",
              "    border-color: transparent;\n",
              "    border-bottom-color: var(--fill-color);\n",
              "    animation:\n",
              "      spin 1s steps(1) infinite;\n",
              "  }\n",
              "\n",
              "  @keyframes spin {\n",
              "    0% {\n",
              "      border-color: transparent;\n",
              "      border-bottom-color: var(--fill-color);\n",
              "      border-left-color: var(--fill-color);\n",
              "    }\n",
              "    20% {\n",
              "      border-color: transparent;\n",
              "      border-left-color: var(--fill-color);\n",
              "      border-top-color: var(--fill-color);\n",
              "    }\n",
              "    30% {\n",
              "      border-color: transparent;\n",
              "      border-left-color: var(--fill-color);\n",
              "      border-top-color: var(--fill-color);\n",
              "      border-right-color: var(--fill-color);\n",
              "    }\n",
              "    40% {\n",
              "      border-color: transparent;\n",
              "      border-right-color: var(--fill-color);\n",
              "      border-top-color: var(--fill-color);\n",
              "    }\n",
              "    60% {\n",
              "      border-color: transparent;\n",
              "      border-right-color: var(--fill-color);\n",
              "    }\n",
              "    80% {\n",
              "      border-color: transparent;\n",
              "      border-right-color: var(--fill-color);\n",
              "      border-bottom-color: var(--fill-color);\n",
              "    }\n",
              "    90% {\n",
              "      border-color: transparent;\n",
              "      border-bottom-color: var(--fill-color);\n",
              "    }\n",
              "  }\n",
              "</style>\n",
              "\n",
              "  <script>\n",
              "    async function quickchart(key) {\n",
              "      const quickchartButtonEl =\n",
              "        document.querySelector('#' + key + ' button');\n",
              "      quickchartButtonEl.disabled = true;  // To prevent multiple clicks.\n",
              "      quickchartButtonEl.classList.add('colab-df-spinner');\n",
              "      try {\n",
              "        const charts = await google.colab.kernel.invokeFunction(\n",
              "            'suggestCharts', [key], {});\n",
              "      } catch (error) {\n",
              "        console.error('Error during call to suggestCharts:', error);\n",
              "      }\n",
              "      quickchartButtonEl.classList.remove('colab-df-spinner');\n",
              "      quickchartButtonEl.classList.add('colab-df-quickchart-complete');\n",
              "    }\n",
              "    (() => {\n",
              "      let quickchartButtonEl =\n",
              "        document.querySelector('#df-4c4453bd-8f43-4a12-8b42-fa8283d6ec9c button');\n",
              "      quickchartButtonEl.style.display =\n",
              "        google.colab.kernel.accessAllowed ? 'block' : 'none';\n",
              "    })();\n",
              "  </script>\n",
              "</div>\n",
              "    </div>\n",
              "  </div>\n"
            ],
            "text/plain": [
              "   Unnamed: 0                                          unique_id  \\\n",
              "0           0                B000FVEL7W:the_best:ronald_t._hicks   \n",
              "1           1  B000GBID20:pleased_with_oral_b_vitality_sonic:...   \n",
              "2           2  B0009IK198:a_fine_shave:thomas_m._stevens_\"mic...   \n",
              "3           3  B000BPU3KG:best_one_there_is:sarah_j._moseley_...   \n",
              "4           4  B000195OCO:just_trust_me...:shilo_irving_\"u4ic...   \n",
              "\n",
              "                                         review_text  rating sentiment  \n",
              "0  best product preventing ridding red bumps, ing...     5.0  positive  \n",
              "1  looking something le abrasive regular manual t...     4.0  positive  \n",
              "2  bought razor check foil shave. I've used Norel...     4.0  positive  \n",
              "3  fibromyalgia heating pad closest friends. : ) ...     5.0  positive  \n",
              "4  one around fragrance man have. lumberjack busi...     5.0  positive  "
            ]
          },
          "execution_count": 4,
          "metadata": {},
          "output_type": "execute_result"
        }
      ],
      "source": [
        "# Function for preprocessing without tokenizing\n",
        "def preprocess_text_no_tokenize(text):\n",
        "\n",
        "    # Remove stop words and perform other preprocessing\n",
        "    stop_words = set(stopwords.words('english'))\n",
        "    lemmatizer = WordNetLemmatizer()\n",
        "    # Remove punctuation\n",
        "    text = text.replace('[^a-zA-Z]', ' ')\n",
        "    # Remove stop words\n",
        "    words = text.split()\n",
        "    words = [word for word in words if word.lower() not in stop_words]\n",
        "\n",
        "    # Lemmatize the words\n",
        "    lemmatized_words = [lemmatizer.lemmatize(word) for word in words]\n",
        "\n",
        "    # Join the lemmatized words back into a single string\n",
        "    preprocessed_text = ' '.join(lemmatized_words)\n",
        "\n",
        "    return preprocessed_text\n",
        "\n",
        "# Apply the preprocessing function to the 'review_text' column\n",
        "review_df['review_text'] = review_df['review_text'].apply(preprocess_text_no_tokenize)\n",
        "\n",
        "review_df.head()"
      ]
    },
    {
      "cell_type": "markdown",
      "metadata": {
        "id": "S1wGW6vdfUNB"
      },
      "source": [
        "# Load pre-trained DistilBERT model and tokenizer"
      ]
    },
    {
      "cell_type": "code",
      "execution_count": 5,
      "metadata": {
        "colab": {
          "base_uri": "https://localhost:8080/"
        },
        "id": "Ie1dVufFwYru",
        "outputId": "b1e4141e-83ee-4f3c-fece-d8811ec7cfb9"
      },
      "outputs": [
        {
          "name": "stderr",
          "output_type": "stream",
          "text": [
            "Some weights of DistilBertForSequenceClassification were not initialized from the model checkpoint at distilbert-base-uncased and are newly initialized: ['pre_classifier.bias', 'classifier.weight', 'pre_classifier.weight', 'classifier.bias']\n",
            "You should probably TRAIN this model on a down-stream task to be able to use it for predictions and inference.\n"
          ]
        }
      ],
      "source": [
        "tokenizer = DistilBertTokenizer.from_pretrained('distilbert-base-uncased')\n",
        "model = DistilBertForSequenceClassification.from_pretrained('distilbert-base-uncased', num_labels=2)"
      ]
    },
    {
      "cell_type": "markdown",
      "metadata": {
        "id": "0FkvYgP8fa2h"
      },
      "source": [
        "# Split the data into features and target variable"
      ]
    },
    {
      "cell_type": "code",
      "execution_count": 6,
      "metadata": {
        "colab": {
          "base_uri": "https://localhost:8080/"
        },
        "id": "K0bzYpFkwqkJ",
        "outputId": "310ed9f1-ffc1-47a2-da7c-d06b138ca193"
      },
      "outputs": [
        {
          "name": "stdout",
          "output_type": "stream",
          "text": [
            "(5780,) (1445,) (5780,) (1445,)\n"
          ]
        }
      ],
      "source": [
        "X = review_df['review_text']\n",
        "y = review_df['sentiment']\n",
        "\n",
        "X_train, X_test, y_train, y_test = train_test_split(X, y, test_size=0.2, random_state=42)\n",
        "print(X_train.shape,X_test.shape,y_train.shape,y_test.shape)"
      ]
    },
    {
      "cell_type": "markdown",
      "metadata": {
        "id": "O0ycUnaEf6CU"
      },
      "source": [
        "Tokenizing the text using distilbert tokenizer"
      ]
    },
    {
      "cell_type": "code",
      "execution_count": 7,
      "metadata": {
        "id": "lR0zVL02f7AW"
      },
      "outputs": [],
      "source": [
        "X_train_tokens = tokenizer(X_train.tolist(), padding=True, truncation=True, return_tensors='pt')\n",
        "X_test_tokens = tokenizer(X_test.tolist(), padding=True, truncation=True, return_tensors='pt')\n",
        "\n",
        "y_train_tensor = torch.tensor(y_train.map({'positive': 1, 'negative': 0}).values)\n",
        "y_test_tensor = torch.tensor(y_test.map({'positive': 1, 'negative': 0}).values)"
      ]
    },
    {
      "cell_type": "markdown",
      "metadata": {
        "id": "teVr-GuTgS7A"
      },
      "source": [
        "Attention Masking"
      ]
    },
    {
      "cell_type": "code",
      "execution_count": 8,
      "metadata": {
        "id": "vMU89TmNgTK6"
      },
      "outputs": [],
      "source": [
        "train_dataset = TensorDataset(X_train_tokens['input_ids'], X_train_tokens['attention_mask'], y_train_tensor)\n",
        "test_dataset = TensorDataset(X_test_tokens['input_ids'], X_test_tokens['attention_mask'], y_test_tensor)"
      ]
    },
    {
      "cell_type": "markdown",
      "metadata": {
        "id": "pdPzi1Etgd-H"
      },
      "source": [
        "Compute class weights to handle class imbalance and Creating a WeightedRandomSampler"
      ]
    },
    {
      "cell_type": "code",
      "execution_count": 9,
      "metadata": {
        "id": "ZY1uVLL-geMm"
      },
      "outputs": [],
      "source": [
        "class_weights = torch.tensor([1.0, len(y_train) / len(y_train[y_train == 'positive'])], dtype=torch.float)\n",
        "sample_weights = class_weights[y_train.map({'positive': 1, 'negative': 0}).values]\n",
        "sampler = WeightedRandomSampler(weights=sample_weights, num_samples=len(sample_weights), replacement=True)"
      ]
    },
    {
      "cell_type": "markdown",
      "metadata": {
        "id": "Y4PZTu4Egv5E"
      },
      "source": [
        "# Defining DataLoader for training and testing set with the weighted sampler"
      ]
    },
    {
      "cell_type": "code",
      "execution_count": 10,
      "metadata": {
        "id": "zURzc9hChBC3"
      },
      "outputs": [],
      "source": [
        "train_dataloader = DataLoader(train_dataset, batch_size=32, sampler=sampler)\n",
        "test_dataloader = DataLoader(test_dataset, batch_size=32, shuffle=False)"
      ]
    },
    {
      "cell_type": "markdown",
      "metadata": {
        "id": "yyNgmF1Ihzwu"
      },
      "source": [
        "Training the BERT using Reptile"
      ]
    },
    {
      "cell_type": "code",
      "execution_count": 11,
      "metadata": {
        "colab": {
          "base_uri": "https://localhost:8080/"
        },
        "id": "Ag5auUbIRrP6",
        "outputId": "5045d344-fcae-41da-9a53-ded46fd9c861"
      },
      "outputs": [
        {
          "name": "stdout",
          "output_type": "stream",
          "text": [
            "Training Loss: 0.6442\n",
            "Training Loss: 0.5904\n",
            "Training Loss: 0.5524\n",
            "Training Loss: 0.4728\n",
            "Training Loss: 0.4256\n",
            "Training Loss: 0.3826\n",
            "Training Loss: 0.4162\n",
            "Training Loss: 0.5470\n",
            "Training Loss: 0.3279\n",
            "Training Loss: 0.5690\n",
            "Training Loss: 0.4996\n",
            "Training Loss: 0.4406\n",
            "Training Loss: 0.4349\n",
            "Training Loss: 0.4309\n",
            "Training Loss: 0.5422\n",
            "Training Loss: 0.6216\n",
            "Training Loss: 0.5433\n",
            "Training Loss: 0.3954\n",
            "Training Loss: 0.4259\n",
            "Training Loss: 0.5162\n",
            "Training Loss: 0.4060\n",
            "Training Loss: 0.6745\n",
            "Training Loss: 0.3994\n",
            "Training Loss: 0.5054\n",
            "Training Loss: 0.3736\n",
            "Training Loss: 0.7307\n",
            "Training Loss: 0.3892\n",
            "Training Loss: 0.4635\n",
            "Training Loss: 0.4700\n",
            "Training Loss: 0.4342\n",
            "Training Loss: 0.3394\n",
            "Training Loss: 0.4008\n",
            "Training Loss: 0.2752\n",
            "Training Loss: 0.7686\n",
            "Training Loss: 0.5810\n",
            "Training Loss: 0.3669\n",
            "Training Loss: 0.3817\n",
            "Training Loss: 0.3596\n",
            "Training Loss: 0.3078\n",
            "Training Loss: 0.5542\n",
            "Training Loss: 0.4012\n",
            "Training Loss: 0.4284\n",
            "Training Loss: 0.3968\n",
            "Training Loss: 0.4310\n",
            "Training Loss: 0.4657\n",
            "Training Loss: 0.3067\n",
            "Training Loss: 0.4296\n",
            "Training Loss: 0.4348\n",
            "Training Loss: 0.3624\n",
            "Training Loss: 0.4198\n",
            "Training Loss: 0.2152\n",
            "Training Loss: 0.5108\n",
            "Training Loss: 0.3929\n",
            "Training Loss: 0.4594\n",
            "Training Loss: 0.2958\n",
            "Training Loss: 0.3586\n",
            "Training Loss: 0.4012\n",
            "Training Loss: 0.4496\n",
            "Training Loss: 0.3833\n",
            "Training Loss: 0.3418\n",
            "Training Loss: 0.3526\n",
            "Training Loss: 0.2983\n",
            "Training Loss: 0.3664\n",
            "Training Loss: 0.2479\n",
            "Training Loss: 0.2147\n",
            "Training Loss: 0.6184\n",
            "Training Loss: 0.3148\n",
            "Training Loss: 0.4504\n",
            "Training Loss: 0.3803\n",
            "Training Loss: 0.2794\n",
            "Training Loss: 0.3384\n",
            "Training Loss: 0.4028\n",
            "Training Loss: 0.4873\n",
            "Training Loss: 0.1948\n",
            "Training Loss: 0.2564\n",
            "Training Loss: 0.3479\n",
            "Training Loss: 0.3292\n",
            "Training Loss: 0.3866\n",
            "Training Loss: 0.4714\n",
            "Training Loss: 0.3527\n",
            "Training Loss: 0.4004\n",
            "Training Loss: 0.2117\n",
            "Training Loss: 0.5314\n",
            "Training Loss: 0.1119\n",
            "Training Loss: 0.2603\n",
            "Training Loss: 0.4294\n",
            "Training Loss: 0.1124\n",
            "Training Loss: 0.1435\n",
            "Training Loss: 0.3077\n",
            "Training Loss: 0.2566\n",
            "Training Loss: 0.1057\n",
            "Training Loss: 0.3955\n",
            "Training Loss: 0.3678\n",
            "Training Loss: 0.2882\n",
            "Training Loss: 0.3127\n",
            "Training Loss: 0.3142\n",
            "Training Loss: 0.2570\n",
            "Training Loss: 0.2766\n",
            "Training Loss: 0.2634\n",
            "Training Loss: 0.4172\n",
            "Training Loss: 0.3510\n",
            "Training Loss: 0.3027\n",
            "Training Loss: 0.3255\n",
            "Training Loss: 0.2650\n",
            "Training Loss: 0.2396\n",
            "Training Loss: 0.3389\n",
            "Training Loss: 0.1817\n",
            "Training Loss: 0.3594\n",
            "Training Loss: 0.2911\n",
            "Training Loss: 0.3755\n",
            "Training Loss: 0.2885\n",
            "Training Loss: 0.2781\n",
            "Training Loss: 0.3796\n",
            "Training Loss: 0.3412\n",
            "Training Loss: 0.3406\n",
            "Training Loss: 0.1442\n",
            "Training Loss: 0.2304\n",
            "Training Loss: 0.2007\n",
            "Training Loss: 0.2295\n",
            "Training Loss: 0.3378\n",
            "Training Loss: 0.3841\n",
            "Training Loss: 0.2110\n",
            "Training Loss: 0.2525\n",
            "Training Loss: 0.1818\n",
            "Training Loss: 0.2358\n",
            "Training Loss: 0.2981\n",
            "Training Loss: 0.3116\n",
            "Training Loss: 0.2080\n",
            "Training Loss: 0.3587\n",
            "Training Loss: 0.2019\n",
            "Training Loss: 0.2211\n",
            "Training Loss: 0.2594\n",
            "Training Loss: 0.1546\n",
            "Training Loss: 0.2615\n",
            "Training Loss: 0.2458\n",
            "Training Loss: 0.2194\n",
            "Training Loss: 0.1529\n",
            "Training Loss: 0.2157\n",
            "Training Loss: 0.1084\n",
            "Training Loss: 0.1765\n",
            "Training Loss: 0.1980\n",
            "Training Loss: 0.1615\n",
            "Training Loss: 0.2085\n",
            "Training Loss: 0.0410\n",
            "Training Loss: 0.3800\n",
            "Training Loss: 0.0798\n",
            "Training Loss: 0.2279\n",
            "Training Loss: 0.3320\n",
            "Training Loss: 0.1238\n",
            "Training Loss: 0.2684\n",
            "Training Loss: 0.0526\n",
            "Training Loss: 0.2613\n",
            "Training Loss: 0.1666\n",
            "Training Loss: 0.1849\n",
            "Training Loss: 0.4792\n",
            "Training Loss: 0.0972\n",
            "Training Loss: 0.3645\n",
            "Training Loss: 0.3430\n",
            "Training Loss: 0.3411\n",
            "Training Loss: 0.1356\n",
            "Training Loss: 0.1482\n",
            "Training Loss: 0.2780\n",
            "Training Loss: 0.3377\n",
            "Training Loss: 0.3311\n",
            "Training Loss: 0.2192\n",
            "Training Loss: 0.1825\n",
            "Training Loss: 0.3498\n",
            "Training Loss: 0.4072\n",
            "Training Loss: 0.2155\n",
            "Training Loss: 0.3344\n",
            "Training Loss: 0.5061\n",
            "Training Loss: 0.3105\n",
            "Training Loss: 0.2316\n",
            "Training Loss: 0.3918\n",
            "Training Loss: 0.1187\n",
            "Training Loss: 0.4947\n",
            "Training Loss: 0.2653\n",
            "Training Loss: 0.2299\n",
            "Training Loss: 0.1184\n",
            "Training Loss: 0.5238\n",
            "Training Loss: 0.2038\n",
            "Bert has been trained!\n"
          ]
        }
      ],
      "source": [
        "# Set device to GPU if available, else use CPU\n",
        "device = torch.device(\"cuda\" if torch.cuda.is_available() else \"cpu\")\n",
        "\n",
        "model.to(device)\n",
        "\n",
        "# Set up Reptile parameters\n",
        "meta_learning_rate = 0.001\n",
        "meta_epochs = 1\n",
        "\n",
        "optimizer = torch.optim.AdamW(model.parameters(), lr=2e-5)\n",
        "\n",
        "# Training loop\n",
        "for meta_epoch in range(meta_epochs):\n",
        "    model.train()\n",
        "    for batch in train_dataloader:\n",
        "        input_ids, attention_mask, labels = batch\n",
        "        input_ids, attention_mask, labels = input_ids.to(device), attention_mask.to(device), labels.to(device)\n",
        "        optimizer.zero_grad()\n",
        "        outputs = model(input_ids, attention_mask=attention_mask, labels=labels)\n",
        "        loss = outputs.loss\n",
        "        print(f\"Training Loss: {loss.item():.4f}\")\n",
        "        loss.backward()\n",
        "        optimizer.step()\n",
        "\n",
        "        # Perturb the model parameters towards the current batch\n",
        "        for param in model.parameters():\n",
        "            param.data = param.data + (param.data - param.data) * random.uniform(0, 0.1)\n",
        "print('Bert has been trained!')"
      ]
    },
    {
      "cell_type": "markdown",
      "metadata": {
        "id": "v1wMvfT_hPX1"
      },
      "source": [
        "Evaluating the fine-tuned model"
      ]
    },
    {
      "cell_type": "code",
      "execution_count": 12,
      "metadata": {
        "colab": {
          "base_uri": "https://localhost:8080/"
        },
        "id": "SKdCjVn2hPmq",
        "outputId": "fa3f3613-f0ea-4ca4-a79f-b1e4c04fc1b1"
      },
      "outputs": [
        {
          "name": "stdout",
          "output_type": "stream",
          "text": [
            "Accuracy: 0.89\n",
            "Classification Report:\n",
            "               precision    recall  f1-score   support\n",
            "\n",
            "    negative       0.80      0.53      0.64       275\n",
            "    positive       0.90      0.97      0.93      1170\n",
            "\n",
            "    accuracy                           0.89      1445\n",
            "   macro avg       0.85      0.75      0.79      1445\n",
            "weighted avg       0.88      0.89      0.88      1445\n",
            "\n"
          ]
        }
      ],
      "source": [
        "model.eval()\n",
        "y_pred = []\n",
        "with torch.no_grad():\n",
        "    for batch in test_dataloader:\n",
        "        input_ids, attention_mask, labels = batch\n",
        "        input_ids, attention_mask, labels = input_ids.to(device), attention_mask.to(device), labels.to(device)\n",
        "        outputs = model(input_ids, attention_mask=attention_mask)\n",
        "        logits = outputs.logits\n",
        "        predictions = torch.argmax(logits, dim=1)\n",
        "        y_pred.extend(predictions.cpu().numpy())\n",
        "\n",
        "# Convert predictions back to 'positive' and 'negative'\n",
        "y_pred_labels = ['positive' if pred == 1 else 'negative' for pred in y_pred]\n",
        "\n",
        "# Evaluate the model\n",
        "accuracy = accuracy_score(y_test, y_pred_labels)\n",
        "classification_rep = classification_report(y_test, y_pred_labels)\n",
        "\n",
        "# Display the results\n",
        "print(f\"Accuracy: {accuracy:.2f}\")\n",
        "print(\"Classification Report:\\n\", classification_rep)\n"
      ]
    },
    {
      "cell_type": "code",
      "execution_count": 13,
      "metadata": {
        "colab": {
          "base_uri": "https://localhost:8080/",
          "height": 564
        },
        "id": "G7gJeh1Zw3KH",
        "outputId": "a8f99414-145d-412a-ba4b-cd58062eff95"
      },
      "outputs": [
        {
          "data": {
            "image/png": "[encoded data removed]",
            "text/plain": [
              "<Figure size 800x600 with 2 Axes>"
            ]
          },
          "metadata": {},
          "output_type": "display_data"
        }
      ],
      "source": [
        "# Plot the confusion matrix\n",
        "cm = confusion_matrix(y_test, y_pred_labels, labels=['negative', 'positive'])\n",
        "plt.figure(figsize=(8, 6))\n",
        "sns.heatmap(cm, annot=True, fmt='d', cmap='Blues', xticklabels=['negative', 'positive'], yticklabels=['negative', 'positive'])\n",
        "plt.xlabel('Predicted')\n",
        "plt.ylabel('True')\n",
        "plt.title('Confusion Matrix')\n",
        "plt.show()\n"
      ]
    }
  ],
  "metadata": {
    "accelerator": "GPU",
    "colab": {
      "gpuType": "T4",
      "provenance": []
    },
    "kernelspec": {
      "display_name": "Python 3",
      "name": "python3"
    },
    "language_info": {
      "codemirror_mode": {
        "name": "ipython",
        "version": 3
      },
      "file_extension": ".py",
      "mimetype": "text/x-python",
      "name": "python",
      "nbconvert_exporter": "python",
      "pygments_lexer": "ipython3",
      "version": "3.10.12"
    }
  },
  "nbformat": 4,
  "nbformat_minor": 0
}
